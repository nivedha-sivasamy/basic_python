{
 "cells": [
  {
   "cell_type": "markdown",
   "id": "3412cc4c",
   "metadata": {},
   "source": [
    "# Generate the elements of a string"
   ]
  },
  {
   "cell_type": "markdown",
   "id": "fbf693a6",
   "metadata": {},
   "source": [
    "### This function generates a random string and finds the count of different elements in it."
   ]
  },
  {
   "cell_type": "code",
   "execution_count": 1,
   "id": "739fda24",
   "metadata": {},
   "outputs": [],
   "source": [
    "import random\n",
    "import string\n",
    "def extract():\n",
    "    print(\"This Program generates a random string and prints out the different elements present in it\")\n",
    "    num1 = input(\"Enter the length of string to be generated : \")\n",
    "    num = int(num1)\n",
    "    rand = ''.join(random.choices(string.ascii_letters + string.digits + string.punctuation,k=num))\n",
    "    digit = 0\n",
    "    digit_list = []\n",
    "    char = 0\n",
    "    char_list = []\n",
    "    upper = 0\n",
    "    upper_list=[]\n",
    "    lower = 0\n",
    "    lower_list = []\n",
    "    word_list = list(rand)\n",
    "    print(\"Randomly generated string is: '\",rand,\"'\")\n",
    "    for i in word_list:\n",
    "        if i in string.digits:\n",
    "            digit+=1\n",
    "            digit_list.append(i)\n",
    "        elif i in string.punctuation:\n",
    "            char+=1\n",
    "            char_list.append(i)\n",
    "        elif i in string.ascii_lowercase:\n",
    "            lower+=1\n",
    "            lower_list.append(i)\n",
    "        elif i in string.ascii_uppercase:\n",
    "            upper +=1\n",
    "            upper_list.append(i)\n",
    "    print()\n",
    "    print(\"There are\",digit,\"digits in the string\")\n",
    "    d=' '.join(digit_list)\n",
    "    print(d)\n",
    "    print(\"There are\",char,\"characters/symbols in the string\")\n",
    "    c=' '.join(char_list)\n",
    "    print(c)\n",
    "    print(\"There are\",lower,\"lowercase letters in the string\")\n",
    "    l=' '.join(lower_list)\n",
    "    print(l)\n",
    "    print(\"There are\",upper,\"uppercase letters in the string\")\n",
    "    u=' '.join(upper_list)\n",
    "    print(u)"
   ]
  },
  {
   "cell_type": "code",
   "execution_count": 2,
   "id": "214fafe7",
   "metadata": {},
   "outputs": [
    {
     "name": "stdout",
     "output_type": "stream",
     "text": [
      "This Program generates a random string and prints out the different elements present in it\n",
      "Enter the length of string to be generated : 10\n",
      "Randomly generated string is: ' SPOq|6*;Od '\n",
      "\n",
      "There are 1 digits in the string\n",
      "6\n",
      "There are 3 characters/symbols in the string\n",
      "| * ;\n",
      "There are 2 lowercase letters in the string\n",
      "q d\n",
      "There are 4 uppercase letters in the string\n",
      "S P O O\n"
     ]
    }
   ],
   "source": [
    "extract()"
   ]
  }
 ],
 "metadata": {
  "kernelspec": {
   "display_name": "Python 3 (ipykernel)",
   "language": "python",
   "name": "python3"
  },
  "language_info": {
   "codemirror_mode": {
    "name": "ipython",
    "version": 3
   },
   "file_extension": ".py",
   "mimetype": "text/x-python",
   "name": "python",
   "nbconvert_exporter": "python",
   "pygments_lexer": "ipython3",
   "version": "3.11.3"
  }
 },
 "nbformat": 4,
 "nbformat_minor": 5
}
