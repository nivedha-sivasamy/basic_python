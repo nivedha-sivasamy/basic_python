{
 "cells": [
  {
   "cell_type": "markdown",
   "id": "8fbb855b",
   "metadata": {},
   "source": [
    "# Fibonacci series using for loop"
   ]
  },
  {
   "cell_type": "markdown",
   "id": "28a34de7",
   "metadata": {},
   "source": [
    "### The Fibonacci sequence, also known as Fibonacci numbers, is defined as the sequence of numbers in which each number in the sequence is equal to the sum of two numbers before it."
   ]
  },
  {
   "cell_type": "code",
   "execution_count": 1,
   "id": "2c37854a",
   "metadata": {},
   "outputs": [],
   "source": [
    "def fibonacci():    \n",
    "    a,b=0,1    \n",
    "    n=int(input(\"Enter a number for the sequence: \"))\n",
    "    if n<0:\n",
    "        print(\"Please enter a positive integer \")\n",
    "    R=range(n+1)    \n",
    "    for i in R:\n",
    "            if a<=i:\n",
    "                print(a,end=' ')\n",
    "                a,b=b,a+b                \n",
    "    print()"
   ]
  },
  {
   "cell_type": "code",
   "execution_count": 2,
   "id": "19ea0de8",
   "metadata": {},
   "outputs": [
    {
     "name": "stdout",
     "output_type": "stream",
     "text": [
      "Enter a number for the sequence: 100\n",
      "0 1 1 2 3 5 8 13 21 34 55 89 \n"
     ]
    }
   ],
   "source": [
    "fibonacci()"
   ]
  }
 ],
 "metadata": {
  "kernelspec": {
   "display_name": "Python 3 (ipykernel)",
   "language": "python",
   "name": "python3"
  },
  "language_info": {
   "codemirror_mode": {
    "name": "ipython",
    "version": 3
   },
   "file_extension": ".py",
   "mimetype": "text/x-python",
   "name": "python",
   "nbconvert_exporter": "python",
   "pygments_lexer": "ipython3",
   "version": "3.11.3"
  }
 },
 "nbformat": 4,
 "nbformat_minor": 5
}
