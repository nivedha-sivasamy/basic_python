{
 "cells": [
  {
   "cell_type": "markdown",
   "id": "isolated-cause",
   "metadata": {},
   "source": [
    "# Calculate the area of trapezoid or parallelogram"
   ]
  },
  {
   "cell_type": "markdown",
   "id": "f8c2dbea",
   "metadata": {},
   "source": [
    "### Area of Parallelogram: area = h · b\n",
    "### Area of Trapezoid: area = (base1 + base2) × h / 2."
   ]
  },
  {
   "cell_type": "code",
   "execution_count": 1,
   "id": "satellite-philippines",
   "metadata": {},
   "outputs": [],
   "source": [
    "def main():\n",
    "    print(\"This program calculates the area of Trapezoid and parallelogram\")\n",
    "    print(\"1. Trapezoid\")\n",
    "    print(\"2. Parallelogram\")\n",
    "    while True:\n",
    "        choice = (input(\" Enter your choice 1 or 2: \"))\n",
    "        if choice == '1':\n",
    "            print(\"To calculate Area of Trapezoid\")\n",
    "            a = eval(input(\"Base_1 : \"))\n",
    "            b = eval(input(\"Base_2 : \"))\n",
    "            c = eval(input(\"Height : \"))\n",
    "            if a<0 or b<0 or c<0:\n",
    "                print(\"Invalid Input\")\n",
    "                continue\n",
    "            else:\n",
    "                Area_1 = ((a+b)/2)*c\n",
    "                print(\"Area of Trapezoid is (base_1 + base_2)/2*Height = \", Area_1)\n",
    "        elif choice == '2':\n",
    "            print(\"To Calculate Area of Parallelogram\")\n",
    "            d = eval(input(\"Base : \"))\n",
    "            e = eval(input(\"Height : \"))\n",
    "            if d<0 or e<0:\n",
    "                print(\"Invalid Input\")\n",
    "                continue\n",
    "            else:\n",
    "                Area_2 = d*e\n",
    "                print(\"Area of Parallelogram is Base*Height = \",Area_2)\n",
    "        else:\n",
    "            print(\"INVALID INPUT\")\n",
    "            continue\n",
    "        repeat = input(\"Press any key to continue or Press N to STOP: \")\n",
    "        if repeat.upper() == 'N':\n",
    "            print(\"Thanks!!\")\n",
    "            break        "
   ]
  },
  {
   "cell_type": "code",
   "execution_count": 2,
   "id": "c221933c",
   "metadata": {},
   "outputs": [
    {
     "name": "stdout",
     "output_type": "stream",
     "text": [
      "This program calculates the area of Trapezoid and parallelogram\n",
      "1. Trapezoid\n",
      "2. Parallelogram\n",
      " Enter your choice 1 or 2: 1\n",
      "To calculate Area of Trapezoid\n",
      "Base_1 : 34\n",
      "Base_2 : 54\n",
      "Height : 12\n",
      "Area of Trapezoid is (base_1 + base_2)/2*Height =  528.0\n",
      "Press any key to continue or Press N to STOP: w\n",
      " Enter your choice 1 or 2: 2\n",
      "To Calculate Area of Parallelogram\n",
      "Base : 12\n",
      "Height : -9\n",
      "Invalid Input\n",
      " Enter your choice 1 or 2: 2\n",
      "To Calculate Area of Parallelogram\n",
      "Base : 10\n",
      "Height : 2\n",
      "Area of Parallelogram is Base*Height =  20\n",
      "Press any key to continue or Press N to STOP: n\n",
      "Thanks!!\n"
     ]
    }
   ],
   "source": [
    "main()"
   ]
  },
  {
   "cell_type": "code",
   "execution_count": null,
   "id": "0d4e1a90",
   "metadata": {},
   "outputs": [],
   "source": []
  }
 ],
 "metadata": {
  "kernelspec": {
   "display_name": "Python 3 (ipykernel)",
   "language": "python",
   "name": "python3"
  },
  "language_info": {
   "codemirror_mode": {
    "name": "ipython",
    "version": 3
   },
   "file_extension": ".py",
   "mimetype": "text/x-python",
   "name": "python",
   "nbconvert_exporter": "python",
   "pygments_lexer": "ipython3",
   "version": "3.11.3"
  }
 },
 "nbformat": 4,
 "nbformat_minor": 5
}
