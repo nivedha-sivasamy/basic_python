{
 "cells": [
  {
   "cell_type": "markdown",
   "id": "f90ee285",
   "metadata": {},
   "source": [
    "# Simple Calculator"
   ]
  },
  {
   "cell_type": "code",
   "execution_count": 3,
   "id": "eb8ebd70",
   "metadata": {},
   "outputs": [],
   "source": [
    "def calculator():\n",
    "    print(\"This is a simple calculator\")\n",
    "    print(\"Select the required operation\")\n",
    "    print(\"1.Addition\")\n",
    "    print(\"2.Subtraction\")\n",
    "    print(\"3.Multiplication\")\n",
    "    print(\"4.Division\")\n",
    "    print(\"5.Remainder\")\n",
    "    print(\"6.Square\")\n",
    "    print(\"7.Exit\")\n",
    "    while True:\n",
    "        choice = input(\"Your choice: \")\n",
    "        if choice == '7':\n",
    "            print(\"THANKS\")\n",
    "            break\n",
    "        elif choice in ('1','2','3','4','5','6'):\n",
    "                a = eval(input(\"Enter a number \"))\n",
    "                b = eval(input(\"Enter a number \")) \n",
    "                if choice == '1':\n",
    "                    print(\"Addition\")\n",
    "                    print(a, '+', b, '=', round(a+b))\n",
    "                elif choice == '2':\n",
    "                    print(\"Subraction\")\n",
    "                    print(a, '-', b, '=', a-b)\n",
    "                elif choice == '3':\n",
    "                    print(\"Multiplication\")\n",
    "                    print(a, '*', b, '=', round(a*b))\n",
    "                elif choice == '4':\n",
    "                    print(\"Division\")\n",
    "                    if b == 0:\n",
    "                        print(\"Since the denominator is zero, value is not defined\")\n",
    "                    else:    \n",
    "                        print(a, '/', b, '=', round(a/b))\n",
    "                elif choice == '5':\n",
    "                    print(\"Remainder of two numbers\")\n",
    "                    if b == 0:\n",
    "                        print(\"Since the denominator is zero, value is not defined\")\n",
    "                    else:\n",
    "                        print(\"Remainder of\", a, 'and', b ,'=', a%b)\n",
    "                elif choice == '6':\n",
    "                        print(\"Square of two numbers\")\n",
    "                        print(\"Square of \", a, 'is' ,a**2)\n",
    "                        print('Square of ',b,'is',b**2)\n",
    "        else:\n",
    "            print(\"INVALID INPUT\")\n",
    "            continue\n",
    "                   "
   ]
  },
  {
   "cell_type": "code",
   "execution_count": 4,
   "id": "9560c3b7",
   "metadata": {},
   "outputs": [
    {
     "name": "stdout",
     "output_type": "stream",
     "text": [
      "This is a simple calculator\n",
      "Select the required operation\n",
      "1.Addition\n",
      "2.Subtraction\n",
      "3.Multiplication\n",
      "4.Division\n",
      "5.Remainder\n",
      "6.Square\n",
      "7.Exit\n",
      "Your choice: 3\n",
      "Enter a number 65\n",
      "Enter a number 3.26\n",
      "Multiplication\n",
      "65 * 3.26 = 212\n",
      "Your choice: 5\n",
      "Enter a number 987\n",
      "Enter a number 23\n",
      "Remainder of two numbers\n",
      "Remainder of 987 and 23 = 21\n",
      "Your choice: 7\n",
      "THANKS\n"
     ]
    }
   ],
   "source": [
    "calculator()"
   ]
  },
  {
   "cell_type": "code",
   "execution_count": null,
   "id": "0efb6345",
   "metadata": {},
   "outputs": [],
   "source": []
  }
 ],
 "metadata": {
  "kernelspec": {
   "display_name": "Python 3 (ipykernel)",
   "language": "python",
   "name": "python3"
  },
  "language_info": {
   "codemirror_mode": {
    "name": "ipython",
    "version": 3
   },
   "file_extension": ".py",
   "mimetype": "text/x-python",
   "name": "python",
   "nbconvert_exporter": "python",
   "pygments_lexer": "ipython3",
   "version": "3.11.3"
  }
 },
 "nbformat": 4,
 "nbformat_minor": 5
}
