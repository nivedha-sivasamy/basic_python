{
 "cells": [
  {
   "cell_type": "markdown",
   "id": "6f9824cf",
   "metadata": {},
   "source": [
    "# Armstrong number generator"
   ]
  },
  {
   "cell_type": "markdown",
   "id": "e966c689",
   "metadata": {},
   "source": [
    "### An Armstrong number is a number that is equal to the sum of its digits each raised to the power of the number of digits."
   ]
  },
  {
   "cell_type": "code",
   "execution_count": 4,
   "id": "d1d51daa",
   "metadata": {},
   "outputs": [],
   "source": [
    "# The function returns the armstrong numbers in the user given range\n",
    "\n",
    "def armstrong_range():\n",
    "    while True:\n",
    "        user1 = (input(\"Enter a number: \"))\n",
    "        user = int(user1)\n",
    "        if user >= 0:\n",
    "            print(\"The armstrong numbers in range 0 to\",user,\"are\")\n",
    "            r=range(user+1)       \n",
    "            for i in r:\n",
    "                if i>=0:\n",
    "                    j = i\n",
    "                    num = 0\n",
    "                    s=str(i)\n",
    "                    l=len(s)\n",
    "                    d=list(s)\n",
    "                    for n in d:\n",
    "                        m=int(n)\n",
    "                        num+=m**l\n",
    "                    if num == j:\n",
    "                        print(j,end=' ')\n",
    "            break \n",
    "        else:\n",
    "            print(\"Enter only positive integers\")\n",
    "            continue                "
   ]
  },
  {
   "cell_type": "code",
   "execution_count": 5,
   "id": "096b7cab",
   "metadata": {},
   "outputs": [
    {
     "name": "stdout",
     "output_type": "stream",
     "text": [
      "Enter a number: 54\n",
      "The armstrong numbers in range 0 to 54 are\n",
      "0 1 2 3 4 5 6 7 8 9 "
     ]
    }
   ],
   "source": [
    "armstrong()"
   ]
  },
  {
   "cell_type": "code",
   "execution_count": 6,
   "id": "af6f3c56",
   "metadata": {},
   "outputs": [
    {
     "name": "stdout",
     "output_type": "stream",
     "text": [
      "Enter a number: 1000\n",
      "The armstrong numbers in range 0 to 1000 are\n",
      "0 1 2 3 4 5 6 7 8 9 153 370 371 407 "
     ]
    }
   ],
   "source": [
    "armstrong()"
   ]
  },
  {
   "cell_type": "code",
   "execution_count": 1,
   "id": "7f01626e",
   "metadata": {},
   "outputs": [],
   "source": [
    "# This function checks if a given number is armstrong or not\n",
    "\n",
    "def armstrong_number():\n",
    "    \n",
    "    while True:\n",
    "        user_input_1=eval(input(\"Enter a number: \"))             \n",
    "        user_input_2 = list(str(user_input_1))                   \n",
    "        total=[]                                                \n",
    "        sum_1 = 0                                                 \n",
    "        num = len(str(user_input_1))                             \n",
    "        if user_input_1 >= 0 and type(user_input_1) == int :     \n",
    "            for i in user_input_2:\n",
    "                a=int(i)**num                                    \n",
    "                total.append(a)                                  \n",
    "            for j in range(len(total)):\n",
    "                sum_1 = sum_1 + total[j]                         \n",
    "            if sum_1 == user_input_1:                            \n",
    "                print(user_input_1,\" is an Armstrong Number\\n\")\n",
    "                check = input(\"Do you want to continue [Y/N] : \")\n",
    "                if check.upper()=='N':\n",
    "                    print(\"THANKS!!\")\n",
    "                    break\n",
    "            else:                     \n",
    "                print(user_input_1,\"is not an armstrong number\\n\")\n",
    "                check = input(\"Do you want to continue [Y/N] : \")\n",
    "                if check.upper()=='N':\n",
    "                    print(\"THANKS!!\")\n",
    "                    break\n",
    "        elif type(user_input_1) == float:\n",
    "            print(\"Enter only whole numbers\")\n",
    "            continue\n",
    "        else:\n",
    "            print(\"Enter only positive integers\")\n",
    "            continue"
   ]
  },
  {
   "cell_type": "code",
   "execution_count": 3,
   "id": "72aa2064",
   "metadata": {},
   "outputs": [
    {
     "name": "stdout",
     "output_type": "stream",
     "text": [
      "Enter the range for Armstrong number: 1000\n",
      "Enter a number: 56\n",
      "56 is not an armstrong number\n",
      "Do you want to continue [Y/N] : y\n",
      "Enter the range for Armstrong number: 6000\n",
      "Enter a number: 89\n",
      "89 is not an armstrong number\n",
      "Do you want to continue [Y/N] : n\n",
      "THANKS!!\n"
     ]
    }
   ],
   "source": [
    "armstrong_number()"
   ]
  },
  {
   "cell_type": "code",
   "execution_count": null,
   "id": "f6745e40",
   "metadata": {},
   "outputs": [],
   "source": []
  }
 ],
 "metadata": {
  "kernelspec": {
   "display_name": "Python 3 (ipykernel)",
   "language": "python",
   "name": "python3"
  },
  "language_info": {
   "codemirror_mode": {
    "name": "ipython",
    "version": 3
   },
   "file_extension": ".py",
   "mimetype": "text/x-python",
   "name": "python",
   "nbconvert_exporter": "python",
   "pygments_lexer": "ipython3",
   "version": "3.11.3"
  }
 },
 "nbformat": 4,
 "nbformat_minor": 5
}
