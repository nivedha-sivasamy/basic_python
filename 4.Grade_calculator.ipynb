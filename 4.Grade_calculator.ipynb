{
 "cells": [
  {
   "cell_type": "markdown",
   "id": "0a4f7237",
   "metadata": {},
   "source": [
    "# Grade calculator"
   ]
  },
  {
   "cell_type": "code",
   "execution_count": 1,
   "id": "7b337e9d",
   "metadata": {},
   "outputs": [],
   "source": [
    "def grade():\n",
    "    print(\"This is a program to calculate your Grade\")\n",
    "    print(\"This program calculates grade of 5 subjects\")\n",
    "    print(\"Marks should be out of 100 and not negative\")\n",
    "    while True:\n",
    "        Name =(input(\"Enter your name: \"))\n",
    "        a=float(input(\"Enter your Math marks: \"))\n",
    "        b=float(input(\"Enter your Social marks: \"))\n",
    "        c=float(input(\"Enter your Science marks: \"))\n",
    "        d=float(input(\"Enter your First language marks: \"))\n",
    "        e=float(input(\"Enter your Second language marks: \"))\n",
    "        if e>100 or e<0 or a>100 or a<0 or b>100 or b<0 or c>100 or c<0 or d>100 or d<0:\n",
    "            print(\"Invalid Input\")\n",
    "            continue\n",
    "        percentage = ((a+b+c+d+e)/500)*100\n",
    "        if a<35 or b<35 or c<35 or d<35 or e<35:\n",
    "            print(Name,\"your percentage is\",round(percentage))\n",
    "            print(\"But you have scored below passing marks you get an F Grade\")\n",
    "            break\n",
    "        elif percentage > 80:\n",
    "            Grade = 'O'\n",
    "        elif percentage >= 75:\n",
    "            Grade = 'A'\n",
    "        elif percentage >= 70:\n",
    "            Grade = 'B'\n",
    "        elif percentage >= 60:\n",
    "            Grade = 'C'\n",
    "        elif percentage >= 50:\n",
    "            Grade = 'D'        \n",
    "        elif percentage >= 45:\n",
    "            Grade = 'E'\n",
    "        elif percentage >= 40:\n",
    "            Grade = 'P' \n",
    "        else:\n",
    "            Grade = 'F'\n",
    "        print(Name,\", your percentage is\",round(percentage,2),'%')\n",
    "        print(\"you have secured\",Grade,\"Grade\")\n",
    "        break"
   ]
  },
  {
   "cell_type": "code",
   "execution_count": 2,
   "id": "1c954e30",
   "metadata": {},
   "outputs": [
    {
     "name": "stdout",
     "output_type": "stream",
     "text": [
      "This is a program to calculate your Grade\n",
      "This program calculates grade of 5 subjects\n",
      "Marks should be out of 100 and not negative\n",
      "Enter your name: oi\n",
      "Enter your Math marks: 45\n",
      "Enter your Social marks: 65\n",
      "Enter your Science marks: 65\n",
      "Enter your First language marks: 65\n",
      "Enter your Second language marks: 65\n",
      "oi , your percentage is 61.0 %\n",
      "you have secured C Grade\n"
     ]
    }
   ],
   "source": [
    "grade()"
   ]
  },
  {
   "cell_type": "code",
   "execution_count": null,
   "id": "de1083a3",
   "metadata": {},
   "outputs": [],
   "source": []
  }
 ],
 "metadata": {
  "kernelspec": {
   "display_name": "Python 3 (ipykernel)",
   "language": "python",
   "name": "python3"
  },
  "language_info": {
   "codemirror_mode": {
    "name": "ipython",
    "version": 3
   },
   "file_extension": ".py",
   "mimetype": "text/x-python",
   "name": "python",
   "nbconvert_exporter": "python",
   "pygments_lexer": "ipython3",
   "version": "3.11.3"
  }
 },
 "nbformat": 4,
 "nbformat_minor": 5
}
