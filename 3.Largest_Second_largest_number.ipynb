{
 "cells": [
  {
   "cell_type": "markdown",
   "id": "dc28d2c6",
   "metadata": {},
   "source": [
    "# Find largest and second largest number"
   ]
  },
  {
   "cell_type": "code",
   "execution_count": 13,
   "id": "animated-captain",
   "metadata": {},
   "outputs": [],
   "source": [
    "def main():\n",
    "    print('This is a program to find the largest and second largest number')\n",
    "    num1 = (input(\"Enter any 3 numbers:\\n\"))\n",
    "    num2 = (input())\n",
    "    num3 = (input())\n",
    "    num_1 = eval(num1)\n",
    "    num_2 = eval(num2)\n",
    "    num_3 = eval(num3)\n",
    "    if (num_1 >= num_2) and (num_1 <= num_3):\n",
    "        second_largest = num_1\n",
    "    elif (num_1 <= num_2) and (num_1 >=num_3):\n",
    "        second_largest = num_1\n",
    "    elif (num_2 >= num_1) and (num_2 <= num_3):\n",
    "        second_largest = num_2\n",
    "    elif (num_2 <= num_1) and (num_2 >= num_3):\n",
    "        second_largest = num_2\n",
    "    else:\n",
    "        second_largest = num_3\n",
    "    print(\"the second_largest number is\", second_largest) \n",
    "    if (num_1 >= second_largest):\n",
    "        largest = num_1\n",
    "    elif (num_2 >= second_largest):\n",
    "        largest = num_2\n",
    "    else:\n",
    "        largest = num_3\n",
    "    print(\"The largest number is \", largest)     "
   ]
  },
  {
   "cell_type": "code",
   "execution_count": 6,
   "id": "371c001e",
   "metadata": {},
   "outputs": [
    {
     "name": "stdout",
     "output_type": "stream",
     "text": [
      "This is a program to find the largest and second largest number\n",
      "Enter any 3 numbers:\n",
      "65\n",
      "154\n",
      "365\n",
      "the second_largest number is 154\n",
      "The largest number is  365\n"
     ]
    }
   ],
   "source": [
    "main()"
   ]
  },
  {
   "cell_type": "code",
   "execution_count": 16,
   "id": "58159692",
   "metadata": {},
   "outputs": [
    {
     "name": "stdout",
     "output_type": "stream",
     "text": [
      "This is a program to find the largest and second largest number\n",
      "Enter any 3 numbers:\n",
      "65\n",
      "98\n",
      "98\n",
      "the second_largest number is 98\n",
      "The largest number is  98\n"
     ]
    }
   ],
   "source": [
    "main()"
   ]
  },
  {
   "cell_type": "code",
   "execution_count": null,
   "id": "fe1a008f",
   "metadata": {},
   "outputs": [],
   "source": []
  }
 ],
 "metadata": {
  "kernelspec": {
   "display_name": "Python 3 (ipykernel)",
   "language": "python",
   "name": "python3"
  },
  "language_info": {
   "codemirror_mode": {
    "name": "ipython",
    "version": 3
   },
   "file_extension": ".py",
   "mimetype": "text/x-python",
   "name": "python",
   "nbconvert_exporter": "python",
   "pygments_lexer": "ipython3",
   "version": "3.11.3"
  }
 },
 "nbformat": 4,
 "nbformat_minor": 5
}
