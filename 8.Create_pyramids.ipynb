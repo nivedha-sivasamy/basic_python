{
 "cells": [
  {
   "cell_type": "markdown",
   "id": "tested-insert",
   "metadata": {},
   "source": [
    "# Program to create pyramid patterns"
   ]
  },
  {
   "cell_type": "code",
   "execution_count": 24,
   "id": "noted-convert",
   "metadata": {},
   "outputs": [],
   "source": [
    "def pyramid():\n",
    "    n=int(input(\"Enter the height of the pyramid : \"))\n",
    "    c=input(\"Enter the character to be used : \")\n",
    "    for num in range(n):\n",
    "        for space in range(n-num-1):\n",
    "            print(\" \",end=\" \")\n",
    "        for char in range(2*num+1):\n",
    "            print(c,end=\" \")\n",
    "        print()"
   ]
  },
  {
   "cell_type": "code",
   "execution_count": 22,
   "id": "proof-essay",
   "metadata": {},
   "outputs": [
    {
     "name": "stdout",
     "output_type": "stream",
     "text": [
      "Enter the height of the pyramid : 5\n",
      "Enter the character to be used : #\n",
      "        # \n",
      "      # # # \n",
      "    # # # # # \n",
      "  # # # # # # # \n",
      "# # # # # # # # # \n"
     ]
    }
   ],
   "source": [
    "pyramid()"
   ]
  },
  {
   "cell_type": "code",
   "execution_count": 23,
   "id": "loving-mississippi",
   "metadata": {},
   "outputs": [
    {
     "name": "stdout",
     "output_type": "stream",
     "text": [
      "Enter the height of the pyramid : 15\n",
      "Enter the character to be used : @\n",
      "                            @ \n",
      "                          @ @ @ \n",
      "                        @ @ @ @ @ \n",
      "                      @ @ @ @ @ @ @ \n",
      "                    @ @ @ @ @ @ @ @ @ \n",
      "                  @ @ @ @ @ @ @ @ @ @ @ \n",
      "                @ @ @ @ @ @ @ @ @ @ @ @ @ \n",
      "              @ @ @ @ @ @ @ @ @ @ @ @ @ @ @ \n",
      "            @ @ @ @ @ @ @ @ @ @ @ @ @ @ @ @ @ \n",
      "          @ @ @ @ @ @ @ @ @ @ @ @ @ @ @ @ @ @ @ \n",
      "        @ @ @ @ @ @ @ @ @ @ @ @ @ @ @ @ @ @ @ @ @ \n",
      "      @ @ @ @ @ @ @ @ @ @ @ @ @ @ @ @ @ @ @ @ @ @ @ \n",
      "    @ @ @ @ @ @ @ @ @ @ @ @ @ @ @ @ @ @ @ @ @ @ @ @ @ \n",
      "  @ @ @ @ @ @ @ @ @ @ @ @ @ @ @ @ @ @ @ @ @ @ @ @ @ @ @ \n",
      "@ @ @ @ @ @ @ @ @ @ @ @ @ @ @ @ @ @ @ @ @ @ @ @ @ @ @ @ @ \n"
     ]
    }
   ],
   "source": [
    "pyramid()"
   ]
  }
 ],
 "metadata": {
  "kernelspec": {
   "display_name": "Python 3 (ipykernel)",
   "language": "python",
   "name": "python3"
  },
  "language_info": {
   "codemirror_mode": {
    "name": "ipython",
    "version": 3
   },
   "file_extension": ".py",
   "mimetype": "text/x-python",
   "name": "python",
   "nbconvert_exporter": "python",
   "pygments_lexer": "ipython3",
   "version": "3.11.3"
  }
 },
 "nbformat": 4,
 "nbformat_minor": 5
}
